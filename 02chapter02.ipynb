{
 "cells": [
  {
   "cell_type": "markdown",
   "id": "9be5c2c7-0898-4216-a61d-160675ae5702",
   "metadata": {},
   "source": [
    "# 2.0 基本技能\n",
    "    - 线性代数：机器学习通常需要处理大型数据集。线性代数为人们提供了一些用来处理表格数据的方法。\n",
    "    - 微积分知识：深度学习是关于优化的学习。对于一个带有参数的模型，我们想要找到其中能拟合数据的最好模型。在算法的每个步骤中，决定以何种方式调整参数需要一点微积分知识。\n",
    "    - 概率论：机器学习还涉及如何做出预测：给定观察到的信息，某些未知属性可能的值是多少？要在不确定的情况下进行严格的推断，我们需要借用概率语言\n",
    "\n",
    "本章会快速介绍一些基本且常用的数学知识，以便读者能够理解书中的大部分数学内容。如果读者想要深入理解全部数学内容，可以进一步学习本书数学附录中给出的数学基础知识。"
   ]
  },
  {
   "cell_type": "markdown",
   "id": "e3c3b831-9ef0-4a61-9aca-44f90c74d9fa",
   "metadata": {},
   "source": [
    "## 数据操作\n",
    "    - n维数组，也称为张量（tensor）\n",
    "    "
   ]
  },
  {
   "cell_type": "code",
   "execution_count": null,
   "id": "f4eabd08-84e9-4c3d-97fd-c4840dad9a70",
   "metadata": {},
   "outputs": [],
   "source": []
  },
  {
   "cell_type": "code",
   "execution_count": null,
   "id": "f8baee04-992a-4d6e-a18f-f22d852482fe",
   "metadata": {},
   "outputs": [],
   "source": []
  }
 ],
 "metadata": {
  "kernelspec": {
   "display_name": "Python 3 (ipykernel)",
   "language": "python",
   "name": "python3"
  },
  "language_info": {
   "codemirror_mode": {
    "name": "ipython",
    "version": 3
   },
   "file_extension": ".py",
   "mimetype": "text/x-python",
   "name": "python",
   "nbconvert_exporter": "python",
   "pygments_lexer": "ipython3",
   "version": "3.10.16"
  }
 },
 "nbformat": 4,
 "nbformat_minor": 5
}
